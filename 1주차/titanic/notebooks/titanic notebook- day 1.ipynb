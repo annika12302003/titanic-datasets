{
 "cells": [
  {
   "cell_type": "code",
   "execution_count": 1,
   "metadata": {},
   "outputs": [],
   "source": [
    "import numpy as np"
   ]
  },
  {
   "cell_type": "code",
   "execution_count": 3,
   "metadata": {},
   "outputs": [
    {
     "name": "stdout",
     "output_type": "stream",
     "text": [
      "hello\n"
     ]
    }
   ],
   "source": [
    "print(\"hello\")"
   ]
  },
  {
   "cell_type": "code",
   "execution_count": 4,
   "metadata": {},
   "outputs": [
    {
     "name": "stdout",
     "output_type": "stream",
     "text": [
      "Pclass\n",
      "1    60.0000\n",
      "2    15.0458\n",
      "3     8.0500\n",
      "Name: Fare, dtype: float64\n"
     ]
    },
    {
     "data": {
      "text/plain": [
       "Text(0.5, 1.0, 'Distribution of Decks')"
      ]
     },
     "execution_count": 4,
     "metadata": {},
     "output_type": "execute_result"
    },
    {
     "data": {
      "image/png": "[encoded data removed]",
      "text/plain": [
       "<Figure size 640x480 with 1 Axes>"
      ]
     },
     "metadata": {},
     "output_type": "display_data"
    }
   ],
   "source": [
    "import pandas as pd\n",
    "import numpy as np\n",
    "import  matplotlib.pyplot as plt\n",
    "import seaborn as sns\n",
    "\n",
    "train_data = pd.read_csv('/Users/annikaseo-yeonkim/Desktop/아무거나/kaggle/titanic/train.csv')\n",
    "test_data = pd.read_csv('/Users/annikaseo-yeonkim/Desktop/아무거나/kaggle/titanic/test.csv')\n",
    "# women = train_data.loc[train_data.Sex == 'female'][\"Survived\"]\n",
    "# rate_women = sum(women)/len(women)\n",
    "\n",
    "# print(\"% of women who survived:\", rate_women)\n",
    "\n",
    "# men = train_data.loc[train_data.Sex == 'male'][\"Survived\"]\n",
    "# rate_men = sum(men)/len(men)\n",
    "\n",
    "# print(\"% of men who survived:\", rate_men)\n",
    "\n",
    "# plt.xlabel('sex', size=15, labelpad=15)\n",
    "# plt.ylabel('Passenger Count', size=15, labelpad=15)\n",
    "\n",
    "# sns.barplot(x = train_data['Sex'], y = train_data['Survived'])\n",
    "def bar_plot(variable):\n",
    "    \"\"\"\n",
    "        input: variable ex: \"Sex\"\n",
    "        output: bar plot & value count\n",
    "    \"\"\"\n",
    "    # get feature\n",
    "    var = train_data[variable]\n",
    "    # count number of categorical variable(value/sample)\n",
    "    varValue = var.value_counts()\n",
    "    \n",
    "    # visualize\n",
    "    plt.figure(figsize = (9,3))\n",
    "    plt.bar(varValue.index, varValue)\n",
    "    plt.xticks(varValue.index, varValue.index.values)\n",
    "    plt.ylabel(\"Frequency\")\n",
    "    plt.title(variable)\n",
    "    plt.show()\n",
    "    print(\"{}: \\n {}\".format(variable,varValue))\n",
    "    \n",
    "\n",
    "# category1 = [\"Survived\",\"Sex\",\"Pclass\",\"Embarked\",\"SibSp\", \"Parch\"]\n",
    "# for c in category1:\n",
    "#     bar_plot(c)\n",
    "\n",
    "# category2 = [\"Cabin\", \"Name\", \"Ticket\"]\n",
    "# for c in category2:\n",
    "#     print(\"{} \\n\".format(train_data[c].value_counts()))\n",
    "\n",
    "pclass_survival_rates= train_data[[\"Pclass\",\"Survived\"]].groupby([\"Pclass\"], as_index = False).mean().sort_values(by=\"Survived\",ascending = False)\n",
    "# print(pclass_survival_rates)\n",
    "\n",
    "sex_survival_rates = train_data[[\"Sex\",\"Survived\"]].groupby([\"Sex\"], as_index = False).mean().sort_values(by=\"Survived\",ascending = False)\n",
    "# sns.lmplot(sex_survival_rates)\n",
    "# print(sex_survival_rates)\n",
    "\n",
    "\n",
    "sibsp_survived =train_data[[\"SibSp\",\"Survived\"]].groupby([\"SibSp\"], as_index = False).mean().sort_values(by=\"Survived\",ascending = False)\n",
    "# print(sibsp_survived)\n",
    "\n",
    "train_df_len = len(train_data)\n",
    "train_df = pd.concat([train_data,test_data],axis = 0).reset_index(drop = True)\n",
    "\n",
    "# print(train_df.isnull().sum())\n",
    "train_df[train_df[\"Embarked\"].isnull()]\n",
    "list1 = [\"SibSp\", \"Parch\", \"Age\", \"Fare\", \"Survived\"]\n",
    "# sns.heatmap(train_df[list1].corr(), annot = True, fmt = \".2f\")\n",
    "# plt.show()\n",
    "\n",
    "# sns.barplot(x=\"Sex\", y=\"Pclass\", data=train_data,palette=\"Set3\")\n",
    "# plt.show()\n",
    "\n",
    "# g = sns.FacetGrid(train_df, col = \"Survived\")\n",
    "# g.map(sns.lmplot, \"Age\", bins = 25)\n",
    "# plt.show()\n",
    "\n",
    "# find out which attribute has the strongest correlation with the passenger's age\n",
    "# sns.scatterplot(x= 'Age',y='Fare',data = train_df)\n",
    "\n",
    "\n",
    "# correlation_matrix = train_df.corr()\n",
    "# get the correlation coefficients - age and Pclass have the strongest correlation: -0.41\n",
    "correlation_coefficient = train_df['Age'].corr(train_df['Pclass'])\n",
    "\n",
    "#get the median age of each Pclass\n",
    "median_age_by_pclass = train_df.groupby('Pclass')['Age'].median()\n",
    "# print(median_age_by_pclass)\n",
    "\n",
    "def fill_age(row):\n",
    "    if pd.isnull(row['Age']):\n",
    "        return median_age_by_pclass[row['Pclass']]\n",
    "    else:\n",
    "        return row['Age']\n",
    "    \n",
    "train_df['Age'] = train_df.apply(fill_age, axis=1)\n",
    "\n",
    "\n",
    "#repeat the same for the 'Fare' and 'Embarked' columns\n",
    "sns.scatterplot(x= 'Pclass',y='Fare',data = train_df)\n",
    "correlation_coefficient2 = train_df['Pclass'].corr(train_df['Fare'])\n",
    "# plt.show()\n",
    "\n",
    "\n",
    "\n",
    "median_fare_pclass = train_df.groupby('Pclass')['Fare'].median()\n",
    "print(median_fare_pclass)\n",
    "# def fill_fare(row):\n",
    "#     if pd.isnull(row['Fare']):\n",
    "#         return median_fare_pclass[row['Fare']]\n",
    "#     else:\n",
    "#         return row['Fare']\n",
    "\n",
    "# train_df['Fare'] = train_df.apply(fill_fare, axis=1)\n",
    "\n",
    "# Cabin column distribution\n",
    "# print(train_df['Cabin'].value_counts(dropna = False))\n",
    "\n",
    "# need to create a new column called deck using the values from the 'cabin' column\n",
    "# we only need to know which cabin (cabin A, B, C...) the passenger was in\n",
    "train_df['Deck'] = train_df['Cabin'].str.slice(0,1)\n",
    "\n",
    "deck_distribution = train_df['Deck'].value_counts(dropna = True)\n",
    "\n",
    "deck_distribution.plot(kind='bar')\n",
    "plt.xlabel('Deck')\n",
    "plt.ylabel('Count')\n",
    "plt.title('Distribution of Decks')\n",
    "\n",
    "\n"
   ]
  }
 ],
 "metadata": {
  "kernelspec": {
   "display_name": "base",
   "language": "python",
   "name": "python3"
  },
  "language_info": {
   "codemirror_mode": {
    "name": "ipython",
    "version": 3
   },
   "file_extension": ".py",
   "mimetype": "text/x-python",
   "name": "python",
   "nbconvert_exporter": "python",
   "pygments_lexer": "ipython3",
   "version": "3.11.5"
  }
 },
 "nbformat": 4,
 "nbformat_minor": 2
}
