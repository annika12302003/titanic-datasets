{
 "cells": [
  {
   "cell_type": "code",
   "execution_count": 43,
   "metadata": {},
   "outputs": [],
   "source": [
    "import pandas as pd\n",
    "import numpy as np\n",
    "import  matplotlib.pyplot as plt\n",
    "import seaborn as sns\n"
   ]
  },
  {
   "cell_type": "code",
   "execution_count": 61,
   "metadata": {},
   "outputs": [
    {
     "name": "stdout",
     "output_type": "stream",
     "text": [
      "<class 'pandas.core.frame.DataFrame'>\n",
      "RangeIndex: 891 entries, 0 to 890\n",
      "Data columns (total 12 columns):\n",
      " #   Column       Non-Null Count  Dtype  \n",
      "---  ------       --------------  -----  \n",
      " 0   PassengerId  891 non-null    int64  \n",
      " 1   Survived     891 non-null    int64  \n",
      " 2   Pclass       891 non-null    int64  \n",
      " 3   Name         891 non-null    object \n",
      " 4   Sex          891 non-null    object \n",
      " 5   Age          714 non-null    float64\n",
      " 6   SibSp        891 non-null    int64  \n",
      " 7   Parch        891 non-null    int64  \n",
      " 8   Ticket       891 non-null    object \n",
      " 9   Fare         891 non-null    float64\n",
      " 10  Cabin        204 non-null    object \n",
      " 11  Embarked     889 non-null    object \n",
      "dtypes: float64(2), int64(5), object(5)\n",
      "memory usage: 83.7+ KB\n",
      "0\n"
     ]
    }
   ],
   "source": [
    "train_data = pd.read_csv('/Users/annikaseo-yeonkim/Desktop/MongooseAI/2주차/titanic/datasets/train.csv')\n",
    "test_data = pd.read_csv('/Users/annikaseo-yeonkim/Desktop/MongooseAI/2주차/titanic/datasets/test.csv')\n",
    "# train_data = pd.concat([train_data,test_data],axis = 0).reset_index(drop = False)\n",
    "# # print(train_data['PassengerId'].count())\n",
    "train_data.info()\n",
    "print(train_data['Survived'].isnull().sum())"
   ]
  },
  {
   "cell_type": "code",
   "execution_count": 45,
   "metadata": {},
   "outputs": [],
   "source": [
    "median_age_by_pclass = train_data.groupby('Pclass')['Age'].median()\n",
    "# print(median_age_by_pclass)\n",
    "\n",
    "def fill_age(row):\n",
    "    if pd.isnull(row['Age']):\n",
    "        return median_age_by_pclass[row['Pclass']]\n",
    "    else:\n",
    "        return row['Age']\n",
    "    \n",
    "train_data['Age'] = train_data.apply(fill_age, axis=1)"
   ]
  },
  {
   "cell_type": "code",
   "execution_count": 46,
   "metadata": {},
   "outputs": [
    {
     "name": "stdout",
     "output_type": "stream",
     "text": [
      "Deck\n",
      "A    35.50000\n",
      "B    80.00000\n",
      "C    83.47500\n",
      "D    53.10000\n",
      "E    45.18125\n",
      "F    13.00000\n",
      "G    13.58125\n",
      "T    35.50000\n",
      "Name: Fare, dtype: float64\n",
      "Deck  Pclass\n",
      "A     1         15\n",
      "B     1         47\n",
      "C     1         59\n",
      "D     1         29\n",
      "      2          4\n",
      "E     1         25\n",
      "      2          4\n",
      "      3          3\n",
      "F     2          8\n",
      "      3          5\n",
      "G     3          4\n",
      "T     1          1\n",
      "Name: count, dtype: int64\n",
      "Pclass\n",
      "1    61.9792\n",
      "2    15.0229\n",
      "3     8.0500\n",
      "Name: Fare, dtype: float64\n"
     ]
    }
   ],
   "source": [
    "train_data['Deck'] = train_data['Cabin'].str.slice(0,1)\n",
    "deck_distribution = train_data['Deck'].value_counts(dropna = False)\n",
    "clean_distribution = train_data['Deck'].value_counts(dropna = True)\n",
    "\n",
    "print(train_data.groupby('Deck')['Fare'].median())\n",
    "# correlation_coefficient3 = train_data['Deck'].corr(train_data['Pclass'])\n",
    "# print(train_data.groupby('Survived')['Age'].median())\n",
    "\n",
    "print(train_data.groupby('Deck')['Pclass'].value_counts()) #Cabin C had the most 1st class passengers \n",
    "\n",
    "train_data['title'] = train_data.Name.str.extract('\\, ([A-Z][^ ]*\\.)',expand=False) #title deck\n",
    "\n",
    "#print(train_data['Fare'].min()) # there are zero values in the dataset\n",
    "#print((train_data.Fare == 0).sum()) # 17 zero values \n",
    "train_data.Fare = train_data.Fare.replace(0,np.NaN) # replace 0 with NaN\n",
    "# print((train_data.Fare == 0).sum())\n",
    "\n",
    "#now fill in the Fare column\n",
    "train_data['Fare_clean'] = train_data.Fare.dropna()\n",
    "#print(train_data['Fare_clean'])\n",
    "correlation_coefficient3 = train_data['Fare_clean'].corr(train_data['Pclass']) #correlation_coefficient3 = -0.5694\n",
    "median_fare_by_pclass = train_data.groupby('Pclass')['Fare'].median()\n",
    "print(median_fare_by_pclass)\n"
   ]
  },
  {
   "cell_type": "code",
   "execution_count": 62,
   "metadata": {},
   "outputs": [],
   "source": [
    "def fill_fare(row):\n",
    "    if pd.isnull(row['Fare']):\n",
    "        return median_fare_by_pclass[row['Pclass']]\n",
    "    else:\n",
    "        return row['Fare']\n",
    "    \n",
    "train_data['Fare'] = train_data.apply(fill_fare, axis=1)\n",
    "# fare_distribution = train_data['Fare'].value_counts(dropna = False)\n",
    "\n"
   ]
  },
  {
   "cell_type": "code",
   "execution_count": 48,
   "metadata": {},
   "outputs": [],
   "source": [
    "# deck column\n",
    "# train_data = train_data.dropna(subset=['Deck', 'Pclass'])\n",
    "\n",
    "# Group by Cabin and calculate the distribution of Pclass\n",
    "# cabin_pclass_distribution = train_data.groupby('Pclass')['Deck'].value_counts(normalize=True).unstack()\n",
    "\n",
    "# Plot the distribution\n",
    "# plt.figure(figsize=(12, 6))\n",
    "# sns.heatmap(cabin_pclass_distribution, annot = True)\n",
    "# plt.title('Distribution of Deck for each Pclass')\n",
    "# plt.xlabel('Deck')\n",
    "# plt.ylabel('Pclass')\n",
    "# plt.show()"
   ]
  },
  {
   "cell_type": "code",
   "execution_count": 49,
   "metadata": {},
   "outputs": [],
   "source": [
    "train_data['Deck'] = train_data.groupby('Pclass')['Deck'].transform(lambda x: x.fillna(x.mode().loc[0])) # used chatgpt\n",
    "# print(sum(train_data['Deck'].isnull())) --> validated the results (the 'Deck' column is now filled)"
   ]
  },
  {
   "cell_type": "code",
   "execution_count": 50,
   "metadata": {},
   "outputs": [
    {
     "name": "stdout",
     "output_type": "stream",
     "text": [
      "0\n"
     ]
    }
   ],
   "source": [
    "print(train_data['Survived'].isnull().sum()) # missing 418 values in the 'Survived' column"
   ]
  },
  {
   "cell_type": "code",
   "execution_count": 51,
   "metadata": {},
   "outputs": [],
   "source": [
    "sex_encoded = pd.get_dummies(train_data['Sex'], prefix='sex')\n",
    "\n",
    "# Concatenate the original DataFrame with the new one-hot encoded variable\n",
    "df_encoded = pd.concat([train_data, sex_encoded], axis=1)\n"
   ]
  },
  {
   "cell_type": "code",
   "execution_count": 52,
   "metadata": {},
   "outputs": [
    {
     "name": "stdout",
     "output_type": "stream",
     "text": [
      "        Survived\n",
      "Pclass          \n",
      "1       0.629630\n",
      "2       0.472826\n",
      "3       0.242363\n",
      "Deck  Survived\n",
      "A     0             8\n",
      "      1             7\n",
      "B     1            35\n",
      "      0            12\n",
      "C     1            54\n",
      "      0            45\n",
      "D     1            25\n",
      "      0             8\n",
      "E     1            24\n",
      "      0             8\n",
      "F     0           465\n",
      "      1           195\n",
      "G     0             2\n",
      "      1             2\n",
      "T     0             1\n",
      "Name: count, dtype: int64\n"
     ]
    },
    {
     "data": {
      "image/png": "[encoded data removed]",
      "text/plain": [
       "<Figure size 640x480 with 1 Axes>"
      ]
     },
     "metadata": {},
     "output_type": "display_data"
    }
   ],
   "source": [
    "print(train_data[['Pclass','Survived']].groupby('Pclass').mean()) \n",
    "corr = train_data['Pclass'].corr(train_data['Survived']) # corr = -0.338\n",
    "corr2 = train_data['Age'].corr(train_data['Survived']) # corr2 = -0.077 \n",
    "corr3 = train_data['Fare'].corr(train_data['Survived']) # corr3 = 0.25\n",
    "corr_sex_survived = df_encoded[['sex_male', 'sex_female']].corrwith(df_encoded['Survived']) #asked chatgpt and got sex_male = -0.54, sex_female = 0.54\n",
    "print(train_data.groupby('Deck')['Survived'].value_counts())\n",
    "# sns.barplot(train_data.groupby('Deck')['Survived']) \n",
    "# plt.show()\n",
    "\n",
    "grouped_counts = train_data.groupby(['Deck', 'Survived']).size().reset_index(name='Count')\n",
    "\n",
    "# Plot the grouped counts using seaborn #asked my good friend ChatGpt\n",
    "sns.barplot(x='Deck', y='Count', hue='Survived', data=grouped_counts)\n",
    "plt.title('Survival Count by Deck')\n",
    "plt.xlabel('Deck')\n",
    "plt.ylabel('Count')\n",
    "plt.show()"
   ]
  },
  {
   "cell_type": "code",
   "execution_count": 53,
   "metadata": {},
   "outputs": [],
   "source": [
    "# Deck F passengers mostly died, more females survived than males, 1st class passengers mostly survived --> will use these correlations to fill out the 'survived' column\n",
    "sum =0\n",
    "count_f = (train_data['Deck'] == \"F\").sum()\n",
    "\n",
    "# Check if 'Deck' is \"F\" and 'Survived' is NaN\n",
    "condition_met = (train_data['Deck'] == \"F\") & (train_data['Survived'].isna())\n",
    "\n",
    "for index, row in train_data.iterrows():\n",
    "    # Check if 'Deck' is \"F\" and 'Survived' is NaN for the current passenger \n",
    "    if row['Deck'] == \"F\" and pd.isna(row['Survived']) and row['Sex'] == \"female\":\n",
    "        # If the condition is met, update 'Survived' to 1 for the current passenger\n",
    "        train_data.at[index, 'Survived'] = 1\n",
    "\n",
    "    if row['Sex'] == 'male' and row['Age'] < 40:\n",
    "        train_data.at[index, 'Survived'] = 0 \n",
    "\n"
   ]
  },
  {
   "cell_type": "code",
   "execution_count": 54,
   "metadata": {},
   "outputs": [],
   "source": [
    "for index, row in train_data.iterrows():\n",
    "    # Check if 'Pclass' is 1 and 'Survived' is NaN for the current passenger \n",
    "    if pd.isna(row['Survived']) and row['Pclass'] == 1:\n",
    "        # If the condition is met, update 'Survived' to 1 for the current passenger\n",
    "        train_data.at[index, 'Survived'] = 1\n",
    "\n",
    "# print(train_data['Survived'])\n",
    "# print(train_data['Survived'].isnull().sum()) --> have three more cells to fill in\n",
    "\n",
    "for index, row in train_data.iterrows():\n",
    "    if pd.isna(row['Survived']):\n",
    "        print(index,row)\n",
    "        print()\n",
    "\n"
   ]
  },
  {
   "cell_type": "code",
   "execution_count": 63,
   "metadata": {},
   "outputs": [
    {
     "name": "stdout",
     "output_type": "stream",
     "text": [
      "Sandstrom, Miss. Marguerite Rut 1\n",
      "Sandstrom, Mrs. Hjalmar (Agnes Charlotta Bengtsson) 1\n",
      "0\n",
      "     PassengerId  Survived\n",
      "0              1         0\n",
      "1              2         1\n",
      "2              3         1\n",
      "3              4         1\n",
      "4              5         0\n",
      "..           ...       ...\n",
      "886          887         0\n",
      "887          888         1\n",
      "888          889         0\n",
      "889          890         1\n",
      "890          891         0\n",
      "\n",
      "[891 rows x 2 columns]\n",
      "0\n"
     ]
    }
   ],
   "source": [
    "import requests\n",
    "import pandas as pd\n",
    "\n",
    "# print(train_data['Survived'].isnull().sum()) - three passengers don't meet some but not all of the conditions listed above (shall deal with them on a case by case basis)\n",
    "for index, row in train_data.iterrows():\n",
    "    if \"Sandstrom\" in row['Name']: #Passenger Beatrice Irene Sandstrom -  mom and sister survived\n",
    "        # print(row['Name'],row['PassengerId'])\n",
    "        train_data.at[index, 'Survived'] = 1\n",
    "    \n",
    "        print(row['Name'],row['Survived'])\n",
    "    \n",
    "    if \"Malachard\" in row['Name']: #Noel Malachard: no siblings or spouse, 2nd class passenger, male, 29 y/o --> probably didn't survive\n",
    "        # print(row['Name'],row['Survived'])\n",
    "        train_data.at[index, 'Survived'] = 0\n",
    "\n",
    "        print(row['Name'],row['Survived'])\n",
    "    \n",
    "    if \"Nourney\" in row['Name']: # Alfred Nourney: no siblings or spouse, 2nd class passenger, male, 20 y/o, cabin D  \n",
    "        # print(row['Name'],row['Survived'])\n",
    "        train_data.at[index, 'Survived'] = 0\n",
    "\n",
    "        print(row['Name'],row['Survived'])\n",
    "    \n",
    "\n",
    "print(train_data['Survived'].isnull().sum())\n",
    "\n",
    "# print(train_data['PassengerId'],train_data['Survived'])\n",
    "\n",
    "survivors = pd.DataFrame({'PassengerId': train_data.PassengerId, 'Survived': train_data.Survived})\n",
    "print(survivors)\n",
    "print(train_data.Survived.isnull().sum())\n",
    "survivors.to_csv('survivors_final.csv', index = False)"
   ]
  }
 ],
 "metadata": {
  "kernelspec": {
   "display_name": "base",
   "language": "python",
   "name": "python3"
  },
  "language_info": {
   "codemirror_mode": {
    "name": "ipython",
    "version": 3
   },
   "file_extension": ".py",
   "mimetype": "text/x-python",
   "name": "python",
   "nbconvert_exporter": "python",
   "pygments_lexer": "ipython3",
   "version": "3.11.5"
  }
 },
 "nbformat": 4,
 "nbformat_minor": 2
}
